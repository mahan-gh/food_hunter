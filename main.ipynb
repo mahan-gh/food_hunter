{
 "cells": [
  {
   "cell_type": "code",
   "execution_count": 1,
   "metadata": {},
   "outputs": [],
   "source": [
    "import os\n",
    "\n",
    "from utils import run, Days, Meals, Foods\n",
    "\n",
    "from dotenv import load_dotenv\n",
    "from playwright import async_api\n",
    "from playwright.async_api import Browser, Page"
   ]
  },
  {
   "cell_type": "code",
   "execution_count": 2,
   "metadata": {},
   "outputs": [],
   "source": [
    "load_dotenv()\n",
    "\n",
    "username = os.getenv(\"USERNAME\")\n",
    "password = os.getenv(\"PASSWORD\")\n",
    "\n",
    "day = Days.TUESDAY\n",
    "meal = Meals.LUNCH\n",
    "food = Foods.FIRST\n",
    "\n",
    "settings = {\n",
    "  \"username\": username,\n",
    "  \"password\": password,\n",
    "  \"day\": day,\n",
    "  \"meal\": meal,\n",
    "  \"food\": food,\n",
    "}"
   ]
  },
  {
   "cell_type": "code",
   "execution_count": 4,
   "metadata": {},
   "outputs": [
    {
     "name": "stdout",
     "output_type": "stream",
     "text": [
      "successfully hunt a food\n"
     ]
    }
   ],
   "source": [
    "async with async_api.async_playwright() as playwright:\n",
    "  browser: Browser = await playwright.chromium.launch(headless=False)\n",
    "  page: Page = await browser.new_page()\n",
    "\n",
    "  result = await run(page, **settings)\n",
    "\n",
    "  print(result)\n",
    "  "
   ]
  },
  {
   "cell_type": "code",
   "execution_count": null,
   "metadata": {},
   "outputs": [],
   "source": []
  },
  {
   "cell_type": "code",
   "execution_count": null,
   "metadata": {},
   "outputs": [],
   "source": [
    "import datetime\n",
    "# asks if redirect to samad.app\n",
    "date = datetime.datetime.now() + datetime.timedelta(days=7)\n",
    "\n",
    "key_value_pair = {\"redirect-confirm\": 0, \"redirect-confirm-expire\": int(date.timestamp())}"
   ]
  },
  {
   "cell_type": "code",
   "execution_count": null,
   "metadata": {},
   "outputs": [],
   "source": []
  }
 ],
 "metadata": {
  "kernelspec": {
   "display_name": "base",
   "language": "python",
   "name": "python3"
  },
  "language_info": {
   "codemirror_mode": {
    "name": "ipython",
    "version": 3
   },
   "file_extension": ".py",
   "mimetype": "text/x-python",
   "name": "python",
   "nbconvert_exporter": "python",
   "pygments_lexer": "ipython3",
   "version": "3.11.7"
  }
 },
 "nbformat": 4,
 "nbformat_minor": 2
}
