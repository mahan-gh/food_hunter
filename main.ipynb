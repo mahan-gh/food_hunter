{
 "cells": [
  {
   "cell_type": "code",
   "execution_count": 4,
   "metadata": {},
   "outputs": [],
   "source": [
    "import os\n",
    "\n",
    "from dotenv import load_dotenv\n",
    "from playwright import async_api\n",
    "from playwright.async_api import Browser, Page\n",
    "\n",
    "from utils import run, Days, Meals, Foods"
   ]
  },
  {
   "cell_type": "code",
   "execution_count": 5,
   "metadata": {},
   "outputs": [],
   "source": [
    "load_dotenv()\n",
    "\n",
    "username = os.getenv(\"fh_USERNAME\")\n",
    "password = os.getenv(\"fh_PASSWORD\")\n",
    "\n",
    "day = Days.SATURDAY\n",
    "meal = Meals.LUNCH\n",
    "food = Foods.FIRST\n",
    "\n",
    "settings = {\n",
    "  \"username\": username,\n",
    "  \"password\": password,\n",
    "  \"day\": day,\n",
    "  \"meal\": meal,\n",
    "  \"food\": food,\n",
    "}"
   ]
  },
  {
   "cell_type": "code",
   "execution_count": null,
   "metadata": {},
   "outputs": [],
   "source": [
    "async with async_api.async_playwright() as playwright:\n",
    "  browser: Browser = await playwright.chromium.launch(headless=False)\n",
    "  page: Page = await browser.new_page()\n",
    "\n",
    "  result = await run(page, **settings)\n",
    "\n",
    "  print(result)\n",
    "  "
   ]
  },
  {
   "cell_type": "markdown",
   "metadata": {},
   "source": [
    "### TODO ###"
   ]
  },
  {
   "cell_type": "code",
   "execution_count": null,
   "metadata": {
    "vscode": {
     "languageId": "html"
    }
   },
   "outputs": [],
   "source": [
    "<div class=\"message\" id=\"successMessages\">    \n",
    "  <img src=\"/images/iconInformation.gif\" alt=\"اطلاعات\" class=\"icon\">\n",
    "  عملیات رزرو با موفقیت انجام شد<br>\n",
    "</div>\n",
    "\n",
    "<div class=\"error\" id=\"errorMessages\">\n",
    "  <img src=\"/images/iconWarning.gif\" alt=\"هشدار\" class=\"icon\">\n",
    "  اعتبار شما کم است<br>\n",
    "</div>\n",
    "\n",
    "<!-- selecting without clicking on confirm button -->\n",
    "<div class=\"error\" id=\"errorMessages\">\n",
    "  <img src=\"/images/iconWarning.gif\" alt=\"هشدار\" class=\"icon\">\n",
    "  تغییر اطلاعات رزرو نامعتبر.<br>\n",
    "</div>"
   ]
  },
  {
   "cell_type": "code",
   "execution_count": null,
   "metadata": {},
   "outputs": [],
   "source": [
    "import datetime\n",
    "# asks if redirect to samad.app\n",
    "date = datetime.datetime.now() + datetime.timedelta(days=7)\n",
    "\n",
    "key_value_pair = {\"redirect-confirm\": 0, \"redirect-confirm-expire\": int(date.timestamp())}"
   ]
  }
 ],
 "metadata": {
  "kernelspec": {
   "display_name": "base",
   "language": "python",
   "name": "python3"
  },
  "language_info": {
   "codemirror_mode": {
    "name": "ipython",
    "version": 3
   },
   "file_extension": ".py",
   "mimetype": "text/x-python",
   "name": "python",
   "nbconvert_exporter": "python",
   "pygments_lexer": "ipython3",
   "version": "3.11.7"
  }
 },
 "nbformat": 4,
 "nbformat_minor": 2
}
